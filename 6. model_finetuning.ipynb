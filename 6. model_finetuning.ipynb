{
 "cells": [
  {
   "cell_type": "code",
   "execution_count": 2,
   "metadata": {},
   "outputs": [],
   "source": [
    "import pandas as pd\n",
    "import matplotlib.pyplot as plt\n",
    "import numpy as np\n",
    "from sklearn.model_selection import train_test_split\n",
    "from sklearn.pipeline import Pipeline\n",
    "from transformers import LogTransformer, SquareRootTransformer, ZScoreTrimmer, UpperBoundTrimmer, LowerBoundTrimmer, FillNaColumnTransformer, KNNColumnImputer, OneHotColumnEncoder, OrdinalColumnEncoder, ColumnDropper, StandardColumnScaler\n",
    "from sklearn.ensemble import RandomForestRegressor\n",
    "from sklearn.experimental import enable_halving_search_cv\n",
    "from sklearn.model_selection import HalvingRandomSearchCV"
   ]
  },
  {
   "cell_type": "code",
   "execution_count": 3,
   "metadata": {},
   "outputs": [],
   "source": [
    "df = pd.read_csv(\"data/belgian_property_prices.csv\")"
   ]
  },
  {
   "cell_type": "code",
   "execution_count": null,
   "metadata": {},
   "outputs": [],
   "source": [
    "features_to_drop = [\"external_reference\", \"latest_land_use_designation\", \"website\", \"reference_number_of_the_epc_report\", \"street\", \"housenumber\", \"city\", \"postal\", \"state\"]"
   ]
  },
  {
   "cell_type": "code",
   "execution_count": null,
   "metadata": {},
   "outputs": [],
   "source": [
    "numerical_features = [\n",
    "    \"bathrooms\",\n",
    "    \"bedroom_1_surface\",\n",
    "    \"bedroom_2_surface\",\n",
    "    \"bedroom_3_surface\",\n",
    "    \"bedrooms\",\n",
    "    \"co2_emission\",\n",
    "    \"cadastral_income\",\n",
    "    \"construction_year\",\n",
    "    \"covered_parking_spaces\",\n",
    "    \"garden_surface\",\n",
    "    \"kitchen_surface\",\n",
    "    \"living_area\",\n",
    "    \"living_room_surface\",\n",
    "    \"outdoor_parking_spaces\",\n",
    "    \"primary_energy_consumption\",\n",
    "    \"street_frontage_width\",\n",
    "    \"surface_of_the_plot\",\n",
    "    \"toilets\",\n",
    "    \"width_of_the_lot_on_the_street\",\n",
    "    \"yearly_theoretical_total_energy_consumption\",\n",
    "    \"lat\",\n",
    "    \"lng\"\n",
    "    ]"
   ]
  },
  {
   "cell_type": "code",
   "execution_count": null,
   "metadata": {},
   "outputs": [],
   "source": [
    "categorical_features = [\n",
    "    \"as_built_plan\",\n",
    "    \"basement\",\n",
    "    \"connection_to_sewer_network\",\n",
    "    \"dining_room\",\n",
    "    \"double_glazing\",\n",
    "    \"flood_zone_type\",\n",
    "    \"furnished\",\n",
    "    \"gas_water__electricity\",\n",
    "    \"office\",\n",
    "    \"planning_permission_obtained\",\n",
    "    \"possible_priority_purchase_right\",\n",
    "    \"proceedings_for_breach_of_planning_regulations\",\n",
    "    \"subdivision_permit\",\n",
    "    \"surroundings_type\",\n",
    "    \"tv_cable\",\n",
    "    \"tenement_building\",\n",
    "    \"available_as_of\",\n",
    "    \"building_condition\",\n",
    "    \"number_of_frontages\",\n",
    "    \"energy_class\",\n",
    "    \"planning_permission_obtained\", \n",
    "    \"heating_type\"\n",
    "    ]"
   ]
  },
  {
   "cell_type": "code",
   "execution_count": null,
   "metadata": {},
   "outputs": [],
   "source": [
    "df[\"price_cat\"] = pd.cut(df.price, bins=[0,250000,500000,750000,1000000,np.inf], labels=[0,1,2,3,4])\n",
    "train_set, test_set = train_test_split(df, test_size=0.2, stratify=df.price_cat, random_state=42)\n",
    "\n",
    "for set_ in (train_set, test_set):\n",
    "    set_.drop(\"price_cat\", axis=1, inplace=True)"
   ]
  },
  {
   "cell_type": "code",
   "execution_count": null,
   "metadata": {},
   "outputs": [],
   "source": [
    "pipeline = Pipeline([\n",
    "    (\"column_dropping\", ColumnDropper(columns=features_to_drop)),\n",
    "    (\"log_transforms\", LogTransformer(columns=[\n",
    "        \"co2_emission\",\n",
    "        \"cadastral_income\",\n",
    "        \"garden_surface\",\n",
    "        \"kitchen_surface\",\n",
    "        \"living_area\",\n",
    "        \"living_room_surface\",\n",
    "        \"street_frontage_width\",\n",
    "        \"surface_of_the_plot\",\n",
    "        \"width_of_the_lot_on_the_street\", \n",
    "        \"price\"\n",
    "    ])),\n",
    "    (\"square_root_transforms\", SquareRootTransformer(columns=[\n",
    "        \"bathrooms\",\n",
    "        \"bedroom_1_surface\",\n",
    "        \"primary_energy_consumption\",\n",
    "        \"yearly_theoretical_total_energy_consumption\"\n",
    "    ])),\n",
    "    (\"zscore_trimming\", ZScoreTrimmer(columns=[\n",
    "        \"living_room_surface\",\n",
    "        \"primary_energy_consumption\",\n",
    "        \"yearly_theoretical_total_energy_consumption\"\n",
    "    ])),                                           \n",
    "    (\"upperbound_trimming\", UpperBoundTrimmer(column_boundaries={\n",
    "        \"bathrooms\": 3,\n",
    "        \"bedroom_1_surface\":8,\n",
    "        \"bedroom_2_surface\":40,\n",
    "        \"bedroom_3_surface\":40,\n",
    "        \"bedrooms\":10,\n",
    "        \"co2_emission\": 10,\n",
    "        \"covered_parking_spaces\": 10,\n",
    "        \"garden_surface\":11,\n",
    "        \"kitchen_surface\":4,\n",
    "        \"outdoor_parking_spaces\":20,\n",
    "        \"street_frontage_width\": 4,\n",
    "        \"toilets\":10,\n",
    "        \"width_of_the_lot_on_the_street\":5,\n",
    "        \"number_of_frontages\":4\n",
    "    })),\n",
    "     (\"lowerbound_trimming\", LowerBoundTrimmer(column_boundaries={\n",
    "        \"co2_emission\":0,\n",
    "        \"cadastral_income\":4,\n",
    "        \"garden_surface\":0,\n",
    "        \"kitchen_surface\":1,\n",
    "        \"living_area\":3,\n",
    "        \"street_frontage_width\":0,\n",
    "        \"surface_of_the_plot\":0,\n",
    "        \"width_of_the_lot_on_the_street\": 0,\n",
    "        \"number_of_frontages\":1,\n",
    "        \"price\": 11\n",
    "     })), \n",
    "    ('filling na', FillNaColumnTransformer(fill_value='Missing', columns=[\n",
    "        \"surroundings_type\",\n",
    "        \"available_as_of\",\n",
    "        \"building_condition\",\n",
    "        \"kitchen_type\",\n",
    "        \"energy_class\", \n",
    "        \"heating_type\"\n",
    "    ])),\n",
    "    ('filling na2', FillNaColumnTransformer(fill_value=0, columns=categorical_features)),     \n",
    "     (\"one_hot_encoding\", OneHotColumnEncoder(columns=[\n",
    "        \"surroundings_type\",\n",
    "        \"available_as_of\",\n",
    "        \"building_condition\",\n",
    "        \"number_of_frontages\",\n",
    "        \"kitchen_type\",\n",
    "        \"heating_type\",\n",
    "    ])),\n",
    "    (\"ordinal_encoding\", OrdinalColumnEncoder(columns=[\n",
    "        \"energy_class\",\n",
    "        ])),\n",
    "    (\"KNN_imputing\", KNNColumnImputer(n_neighbors=5,columns=numerical_features))\n",
    "])"
   ]
  },
  {
   "cell_type": "code",
   "execution_count": null,
   "metadata": {},
   "outputs": [],
   "source": [
    "\n",
    "prepared_train_set = data=pipeline.fit_transform(train_set)"
   ]
  },
  {
   "cell_type": "code",
   "execution_count": null,
   "metadata": {},
   "outputs": [],
   "source": [
    "y_columns = [\"price\"]\n",
    "X_columns =list(prepared_train_set.columns)\n",
    "X_columns.remove(\"price\")"
   ]
  },
  {
   "cell_type": "code",
   "execution_count": null,
   "metadata": {},
   "outputs": [],
   "source": [
    "param_distributions = [{\n",
    "'n_estimators': [1,2,3,4,5,6,7,8,9,10,15,20,25,30,35,40,45,50,60,70,80,90,100,110,120,130,140,150,160,170,180,190,200,250,300,350,400,450,500,550,600,650,700,750,800,850,900,950,1000],\n",
    "\"max_depth\": [1,2,3,4,5,6,7,8,9,10,15,20,25,30,35,40,45,50,60,70,80,90,100],\n",
    "\"min_samples_split\": [1,2,3,4,5,6,7,8,9,10,15,20,25,30,35,40,45,50],\n",
    "\"min_samples_leaf\": [1,2,3,4,5,6,7,8,9,10,15,20,25,30,35,40,45,50],\n",
    "}]\n",
    "\n",
    "rnd_search = HalvingRandomSearchCV(RandomForestRegressor(random_state=42), param_distributions, cv=3, scoring='neg_mean_squared_error', verbose=10)\n",
    "rnd_search.fit(prepared_train_set[X_columns], np.ravel(prepared_train_set[y_columns]))\n"
   ]
  },
  {
   "cell_type": "code",
   "execution_count": null,
   "metadata": {},
   "outputs": [],
   "source": [
    "rnd_search.best_params_"
   ]
  },
  {
   "cell_type": "code",
   "execution_count": null,
   "metadata": {},
   "outputs": [],
   "source": [
    "cv_res = pd.DataFrame(rnd_search.cv_results_)\n",
    "cv_res.sort_values(by=\"mean_test_score\", ascending=False, inplace=True)"
   ]
  },
  {
   "cell_type": "code",
   "execution_count": null,
   "metadata": {},
   "outputs": [],
   "source": [
    "\n",
    "prepared_test_set = data=pipeline.fit_transform(test_set)"
   ]
  },
  {
   "cell_type": "code",
   "execution_count": null,
   "metadata": {},
   "outputs": [],
   "source": [
    "from sklearn.metrics import mean_squared_error\n",
    "\n",
    "for feature in features_to_drop:\n",
    "    if feature in X_columns:\n",
    "        X_columns.remove(feature)\n",
    "\n",
    "final_predictions = rnd_search.best_estimator_.predict(prepared_test_set[X_columns])\n",
    "final_mse = mean_squared_error(prepared_test_set[\"price\"], final_predictions)\n",
    "print(final_mse) # prints 41424.40026462184\n"
   ]
  },
  {
   "cell_type": "code",
   "execution_count": null,
   "metadata": {},
   "outputs": [],
   "source": []
  }
 ],
 "metadata": {
  "kernelspec": {
   "display_name": "house-env",
   "language": "python",
   "name": "python3"
  },
  "language_info": {
   "codemirror_mode": {
    "name": "ipython",
    "version": 3
   },
   "file_extension": ".py",
   "mimetype": "text/x-python",
   "name": "python",
   "nbconvert_exporter": "python",
   "pygments_lexer": "ipython3",
   "version": "3.10.11"
  }
 },
 "nbformat": 4,
 "nbformat_minor": 2
}
