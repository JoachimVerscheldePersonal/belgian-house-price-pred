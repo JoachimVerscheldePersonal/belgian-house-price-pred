{
 "cells": [
  {
   "cell_type": "code",
   "execution_count": null,
   "metadata": {},
   "outputs": [],
   "source": [
    "import pandas as pd\n",
    "import matplotlib.pyplot as plt\n",
    "import numpy as np\n",
    "from sklearn.model_selection import train_test_split\n",
    "from sklearn.pipeline import Pipeline\n",
    "from transformers import LogTransformer, SquareRootTransformer, ZScoreTrimmer, UpperBoundTrimmer, LowerBoundTrimmer, FillNaColumnTransformer, KNNColumnImputer, OneHotColumnEncoder, OrdinalColumnEncoder, ColumnDropper, StandardColumnScaler, ClusterSimilarity\n"
   ]
  },
  {
   "cell_type": "code",
   "execution_count": null,
   "metadata": {},
   "outputs": [],
   "source": [
    "df = pd.read_csv(\"data/belgian_property_prices.csv\")"
   ]
  },
  {
   "cell_type": "code",
   "execution_count": null,
   "metadata": {},
   "outputs": [],
   "source": [
    "features_to_drop = [\"external_reference\", \"latest_land_use_designation\", \"website\", \"reference_number_of_the_epc_report\", \"street\", \"housenumber\", \"city\", \"postal\", \"state\"]"
   ]
  },
  {
   "cell_type": "code",
   "execution_count": null,
   "metadata": {},
   "outputs": [],
   "source": [
    "numerical_features = [\n",
    "    \"bathrooms\",\n",
    "    \"bedroom_1_surface\",\n",
    "    \"bedroom_2_surface\",\n",
    "    \"bedroom_3_surface\",\n",
    "    \"bedrooms\",\n",
    "    \"co2_emission\",\n",
    "    \"cadastral_income\",\n",
    "    \"construction_year\",\n",
    "    \"covered_parking_spaces\",\n",
    "    \"garden_surface\",\n",
    "    \"kitchen_surface\",\n",
    "    \"living_area\",\n",
    "    \"living_room_surface\",\n",
    "    \"outdoor_parking_spaces\",\n",
    "    \"primary_energy_consumption\",\n",
    "    \"street_frontage_width\",\n",
    "    \"surface_of_the_plot\",\n",
    "    \"toilets\",\n",
    "    \"width_of_the_lot_on_the_street\",\n",
    "    \"yearly_theoretical_total_energy_consumption\",\n",
    "    \"lat\",\n",
    "    \"lng\"\n",
    "    ]"
   ]
  },
  {
   "cell_type": "code",
   "execution_count": null,
   "metadata": {},
   "outputs": [],
   "source": [
    "categorical_features = [\n",
    "    \"as_built_plan\",\n",
    "    \"basement\",\n",
    "    \"connection_to_sewer_network\",\n",
    "    \"dining_room\",\n",
    "    \"double_glazing\",\n",
    "    \"flood_zone_type\",\n",
    "    \"furnished\",\n",
    "    \"gas_water__electricity\",\n",
    "    \"office\",\n",
    "    \"planning_permission_obtained\",\n",
    "    \"possible_priority_purchase_right\",\n",
    "    \"proceedings_for_breach_of_planning_regulations\",\n",
    "    \"subdivision_permit\",\n",
    "    \"surroundings_type\",\n",
    "    \"tv_cable\",\n",
    "    \"tenement_building\",\n",
    "    \"available_as_of\",\n",
    "    \"building_condition\",\n",
    "    \"number_of_frontages\",\n",
    "    \"energy_class\",\n",
    "    \"planning_permission_obtained\", \n",
    "    \"heating_type\"\n",
    "    ]"
   ]
  },
  {
   "cell_type": "code",
   "execution_count": null,
   "metadata": {},
   "outputs": [],
   "source": [
    "df[\"price_cat\"] = pd.cut(df.price, bins=[0,250000,500000,750000,1000000,np.inf], labels=[0,1,2,3,4])\n",
    "train_set, test_set = train_test_split(df, test_size=0.2, stratify=df.price_cat, random_state=42)\n",
    "\n",
    "for set_ in (train_set, test_set):\n",
    "    set_.drop(\"price_cat\", axis=1, inplace=True)"
   ]
  },
  {
   "cell_type": "code",
   "execution_count": null,
   "metadata": {},
   "outputs": [],
   "source": [
    "pipeline = Pipeline([\n",
    "    (\"column_dropping\", ColumnDropper(columns=features_to_drop)),\n",
    "    (\"log_transforms\", LogTransformer(columns=[\n",
    "        \"co2_emission\",\n",
    "        \"cadastral_income\",\n",
    "        \"garden_surface\",\n",
    "        \"kitchen_surface\",\n",
    "        \"living_area\",\n",
    "        \"living_room_surface\",\n",
    "        \"street_frontage_width\",\n",
    "        \"surface_of_the_plot\",\n",
    "        \"width_of_the_lot_on_the_street\", \n",
    "        \"price\"\n",
    "    ])),\n",
    "    (\"square_root_transforms\", SquareRootTransformer(columns=[\n",
    "        \"bathrooms\",\n",
    "        \"bedroom_1_surface\",\n",
    "        \"primary_energy_consumption\",\n",
    "        \"yearly_theoretical_total_energy_consumption\"\n",
    "    ])),\n",
    "    (\"zscore_trimming\", ZScoreTrimmer(columns=[\n",
    "        \"living_room_surface\",\n",
    "        \"primary_energy_consumption\",\n",
    "        \"yearly_theoretical_total_energy_consumption\"\n",
    "    ])),                                           \n",
    "    (\"upperbound_trimming\", UpperBoundTrimmer(column_boundaries={\n",
    "        \"bathrooms\": 3,\n",
    "        \"bedroom_1_surface\":8,\n",
    "        \"bedroom_2_surface\":40,\n",
    "        \"bedroom_3_surface\":40,\n",
    "        \"bedrooms\":10,\n",
    "        \"co2_emission\": 10,\n",
    "        \"covered_parking_spaces\": 10,\n",
    "        \"garden_surface\":11,\n",
    "        \"kitchen_surface\":4,\n",
    "        \"outdoor_parking_spaces\":20,\n",
    "        \"street_frontage_width\": 4,\n",
    "        \"toilets\":10,\n",
    "        \"width_of_the_lot_on_the_street\":5,\n",
    "        \"number_of_frontages\":4\n",
    "    })),\n",
    "     (\"lowerbound_trimming\", LowerBoundTrimmer(column_boundaries={\n",
    "        \"co2_emission\":0,\n",
    "        \"cadastral_income\":4,\n",
    "        \"garden_surface\":0,\n",
    "        \"kitchen_surface\":1,\n",
    "        \"living_area\":3,\n",
    "        \"street_frontage_width\":0,\n",
    "        \"surface_of_the_plot\":0,\n",
    "        \"width_of_the_lot_on_the_street\": 0,\n",
    "        \"number_of_frontages\":1,\n",
    "        \"price\": 11\n",
    "     })), \n",
    "    ('filling na', FillNaColumnTransformer(fill_value='Missing', columns=[\n",
    "        \"surroundings_type\",\n",
    "        \"available_as_of\",\n",
    "        \"building_condition\",\n",
    "        \"kitchen_type\",\n",
    "        \"energy_class\", \n",
    "        \"heating_type\"\n",
    "    ])),\n",
    "    ('filling na2', FillNaColumnTransformer(fill_value=0, columns=categorical_features)),     \n",
    "     (\"one_hot_encoding\", OneHotColumnEncoder(columns=[\n",
    "        \"surroundings_type\",\n",
    "        \"available_as_of\",\n",
    "        \"building_condition\",\n",
    "        \"number_of_frontages\",\n",
    "        \"kitchen_type\",\n",
    "        \"heating_type\",\n",
    "    ])),\n",
    "    (\"ordinal_encoding\", OrdinalColumnEncoder(columns=[\n",
    "        \"energy_class\",\n",
    "        ])),\n",
    "    (\"KNN_imputing\", KNNColumnImputer(n_neighbors=5,columns=numerical_features)), \n",
    "    (\"standard_scaling\", StandardColumnScaler(columns=numerical_features))                                                    \n",
    "])"
   ]
  },
  {
   "cell_type": "code",
   "execution_count": null,
   "metadata": {},
   "outputs": [],
   "source": [
    "\n",
    "prepared_train_set = data=pipeline.fit_transform(train_set)"
   ]
  },
  {
   "cell_type": "code",
   "execution_count": null,
   "metadata": {},
   "outputs": [],
   "source": [
    "len(prepared_train_set)"
   ]
  },
  {
   "cell_type": "code",
   "execution_count": null,
   "metadata": {},
   "outputs": [],
   "source": [
    "prepared_train_set.describe()"
   ]
  },
  {
   "cell_type": "code",
   "execution_count": null,
   "metadata": {},
   "outputs": [],
   "source": [
    "prepared_train_set.info()"
   ]
  },
  {
   "cell_type": "code",
   "execution_count": null,
   "metadata": {},
   "outputs": [],
   "source": [
    "subplot_size = (int(np.ceil(len(numerical_features)/6)), 6)\n",
    "fig, axs = plt.subplots(subplot_size[0], subplot_size[1], figsize=(30,13), gridspec_kw={'hspace': 0.5})\n",
    "\n",
    "for axis_index, ax in enumerate(axs.flat):\n",
    "    if axis_index == len(numerical_features):\n",
    "        break\n",
    "    ax.hist(prepared_train_set[numerical_features[axis_index]].values, bins=50)\n",
    "    ax.set_title([numerical_features[axis_index]])"
   ]
  },
  {
   "cell_type": "code",
   "execution_count": null,
   "metadata": {},
   "outputs": [],
   "source": [
    "import seaborn as sns\n",
    "%matplotlib inline\n",
    "correlation_features = numerical_features + [\"price\"]\n",
    "print(correlation_features)\n",
    "corr = prepared_train_set[correlation_features].corr()\n",
    "sns.heatmap(corr)"
   ]
  },
  {
   "cell_type": "code",
   "execution_count": null,
   "metadata": {},
   "outputs": [],
   "source": [
    "prepared_train_set.reset_index(inplace=True, drop=True)\n",
    "prepared_train_set.info()"
   ]
  },
  {
   "cell_type": "code",
   "execution_count": null,
   "metadata": {},
   "outputs": [],
   "source": []
  }
 ],
 "metadata": {
  "kernelspec": {
   "display_name": "house-env",
   "language": "python",
   "name": "python3"
  },
  "language_info": {
   "codemirror_mode": {
    "name": "ipython",
    "version": 3
   },
   "file_extension": ".py",
   "mimetype": "text/x-python",
   "name": "python",
   "nbconvert_exporter": "python",
   "pygments_lexer": "ipython3",
   "version": "3.10.11"
  }
 },
 "nbformat": 4,
 "nbformat_minor": 2
}
