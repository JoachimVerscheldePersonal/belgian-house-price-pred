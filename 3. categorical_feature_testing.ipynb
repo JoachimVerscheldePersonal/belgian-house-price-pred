{
 "cells": [
  {
   "cell_type": "code",
   "execution_count": 1,
   "metadata": {},
   "outputs": [],
   "source": [
    "import pandas as pd\n",
    "import matplotlib.pyplot as plt\n",
    "import numpy as np\n",
    "from sklearn.model_selection import train_test_split\n",
    "from scipy.stats import zscore"
   ]
  },
  {
   "cell_type": "code",
   "execution_count": 2,
   "metadata": {},
   "outputs": [],
   "source": [
    "df = pd.read_csv(\"data/belgian_property_prices.csv\")"
   ]
  },
  {
   "cell_type": "code",
   "execution_count": 3,
   "metadata": {},
   "outputs": [],
   "source": [
    "categorical_features = [\n",
    "    \"as_built_plan\",\n",
    "    \"basement\",\n",
    "    \"connection_to_sewer_network\",\n",
    "    \"dining_room\",\n",
    "    \"double_glazing\",\n",
    "    \"flood_zone_type\",\n",
    "    \"furnished\",\n",
    "    \"gas_water__electricity\",\n",
    "    \"office\",\n",
    "    \"planning_permission_obtained\",\n",
    "    \"possible_priority_purchase_right\",\n",
    "    \"proceedings_for_breach_of_planning_regulations\",\n",
    "    \"subdivision_permit\",\n",
    "    \"surroundings_type\",\n",
    "    \"tv_cable\",\n",
    "    \"tenement_building\",\n",
    "    \"available_as_of\",\n",
    "    \"building_condition\",\n",
    "    \"number_of_frontages\"\n",
    "    ]"
   ]
  },
  {
   "cell_type": "code",
   "execution_count": 27,
   "metadata": {},
   "outputs": [
    {
     "data": {
      "text/plain": [
       "building_condition\n",
       "Good              1963\n",
       "As new             788\n",
       "To renovate        694\n",
       "To be done up      646\n",
       "Just renovated     323\n",
       "To restore          71\n",
       "Name: count, dtype: int64"
      ]
     },
     "execution_count": 27,
     "metadata": {},
     "output_type": "execute_result"
    }
   ],
   "source": [
    "df.building_condition.value_counts()"
   ]
  },
  {
   "cell_type": "code",
   "execution_count": 28,
   "metadata": {},
   "outputs": [
    {
     "data": {
      "text/plain": [
       "<Axes: >"
      ]
     },
     "execution_count": 28,
     "metadata": {},
     "output_type": "execute_result"
    },
    {
     "data": {
      "image/png": "[encoded data removed]",
      "text/plain": [
       "<Figure size 640x480 with 1 Axes>"
      ]
     },
     "metadata": {},
     "output_type": "display_data"
    }
   ],
   "source": [
    "df.building_condition.hist(bins=50)"
   ]
  },
  {
   "cell_type": "markdown",
   "metadata": {},
   "source": [
    "| Feature            | Fillna | Encoding |\n",
    "|--------------------|--------|----------|\n",
    "|  as_built_plan| 0 | / |\n",
    "|  basement| 0 | / |\n",
    "|  connection_to_sewer_network| 0 | / |\n",
    "|  dining_room| 0 | / |\n",
    "|  double_glazing| 0 | / |\n",
    "|  flood_zone_type| 0 | / |\n",
    "|  furnished| 0 | / |\n",
    "|  gas_water__electricity| 0 | / |\n",
    "|  office| 0 | / |\n",
    "|  planning_permission_obtained| 0 | / |\n",
    "|  possible_priority_purchase_right| 0 | / |\n",
    "|  proceedings_for_breach_of_planning_regulations| 0 | / |\n",
    "|  subdivision_permit| 0 | / |\n",
    "|  surroundings_type| 0 after one hot encoding | one hot encoding |\n",
    "|  tv_cable| 0 | / |\n",
    "|  tenement_building| 0 | / |\n",
    "|  available_as_of| 0 after one hot encoding | one hot encoding |\n",
    "|  building_condition| 0 after one hot encoding | one hot encoding |\n",
    "|  number_of_frontages| 0 after one hot encoding | one hot encoding |\n",
    "    "
   ]
  },
  {
   "cell_type": "code",
   "execution_count": null,
   "metadata": {},
   "outputs": [],
   "source": []
  }
 ],
 "metadata": {
  "kernelspec": {
   "display_name": "house-env",
   "language": "python",
   "name": "python3"
  },
  "language_info": {
   "codemirror_mode": {
    "name": "ipython",
    "version": 3
   },
   "file_extension": ".py",
   "mimetype": "text/x-python",
   "name": "python",
   "nbconvert_exporter": "python",
   "pygments_lexer": "ipython3",
   "version": "3.10.11"
  }
 },
 "nbformat": 4,
 "nbformat_minor": 2
}
